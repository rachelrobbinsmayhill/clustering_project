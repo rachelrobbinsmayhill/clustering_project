{
 "cells": [
  {
   "cell_type": "markdown",
   "id": "48228a41-7b74-473f-b883-18d849833b0b",
   "metadata": {},
   "source": [
    "---"
   ]
  },
  {
   "cell_type": "markdown",
   "id": "43d6302d-de31-4c4a-b34d-5e0be1106937",
   "metadata": {},
   "source": [
    "Project & Final Report Created By: Rachel Robbins-Mayhill 2022-04-08"
   ]
  },
  {
   "cell_type": "markdown",
   "id": "5beaa6c3-6753-43e8-945d-2ed61bd0e1a6",
   "metadata": {},
   "source": [
    "---"
   ]
  },
  {
   "cell_type": "code",
   "execution_count": 1,
   "id": "35985e77-dfbc-402d-b8e6-fadb6eff4d2c",
   "metadata": {},
   "outputs": [
    {
     "name": "stdout",
     "output_type": "stream",
     "text": [
      "zsh:1: unknown file attribute: z\n"
     ]
    }
   ],
   "source": [
    "![Logo](zillow-com-logo.png \"Zillow\")"
   ]
  },
  {
   "cell_type": "markdown",
   "id": "b00c7f26-e770-444f-a6a6-7bfa4e045935",
   "metadata": {},
   "source": [
    "## PROJECT DESCRIPTION"
   ]
  },
  {
   "cell_type": "markdown",
   "id": "0d94cd21-6155-4e3f-b7f5-419dc4026dd5",
   "metadata": {},
   "source": [
    "Zillow is the leading real estate and rental marketplace dedicated to empowering consumers with data, inspiration and knowledge around the place they call home, and connecting them with the best local professionals who can help. According to the National Association of Realtors, there are over 119 million homes in the United States, over 5 million of which are sold each year. 80% of these homes have been viewed on Zillow regardless of their market status.\n",
    "\n",
    "Zillow serves the full lifecycle of owning and living in a home: buying, selling, renting, financing, remodeling and more. It starts with Zillow's living database of more than 110 million U.S. homes - including homes for sale, homes for rent and homes not currently on the market, as well as Zestimate home values, Rent Zestimates and other home-related information.\n",
    "\n",
    "The Zestimate is a key element driving webtraffic to Zillow, where sellers, buyers, agents, and curiosity-seekers gain knowledge of a home's value. In fact, over the years, Zillow has built a solid reputation around the Zestimate. The Zestimate takes in layers of data regarding a homes features and location and presents buyers and sellars with a value of a home. Zillow publishes Zestimates for 104 million homes, updating them weekly.\n",
    "\n",
    "Although Zillow has a model to assist in predicting a home's value, they are looking to fine-tune the model and improve upon it. This project has been requested by the Zillow Data Science Team."
   ]
  },
  {
   "cell_type": "markdown",
   "id": "506270eb-48ac-403c-a923-2a6af58b97bd",
   "metadata": {},
   "source": [
    "### PROJECT GOAL"
   ]
  },
  {
   "cell_type": "markdown",
   "id": "bbce39c7-b234-4ed6-bd3e-2c8b2f56bd58",
   "metadata": {},
   "source": [
    "The goal of this project is to find key drivers of property value for Single Family Properties and to construct an improved Machine Learning Regression Model to predict property tax assessed values for these properties using the features of the properties. The improved model will help Zillow develop more accurate, dependable, and trustworthy Zestimates, thus sustaining and bolstering their loyal customer base. \n",
    "\n",
    "Upon completion of the model, the project will make recommendations on what does and doesn't impact property values and deliver the recommendations in a report to the Data Science team at Zillow, so they can understand the process that developed the conclusion and have the information available to replicate the findings. \n"
   ]
  },
  {
   "cell_type": "markdown",
   "id": "11cbb33d-5afe-4b12-b3c4-25aaacad675c",
   "metadata": {},
   "source": [
    "### INITIAL QUESTIONS"
   ]
  },
  {
   "cell_type": "markdown",
   "id": "418490df-1901-414f-920e-f2ccc2d9c8ca",
   "metadata": {},
   "source": [
    "1. Is square feet of a property a driver of property value while controling for location?\n",
    "2. Are the number of bedrooms and bathrooms a driver of the value of a property when controlling for square footage?\n",
    "3. Is the square footage a driver of the value of a property when controllng for **bedrooms**?\n",
    "4. Is the square footage a driver of the value of a property when controllng for **bathrooms**?"
   ]
  },
  {
   "cell_type": "markdown",
   "id": "aa3b43e6-23d9-4f34-9e56-66ed0fda0360",
   "metadata": {},
   "source": [
    "---"
   ]
  },
  {
   "cell_type": "markdown",
   "id": "29de6c26-1c4b-4e4e-93ce-8f42257de220",
   "metadata": {},
   "source": [
    "Imports used for this project can be viewed in the imports.py file located in the Clustering Project Repository."
   ]
  },
  {
   "cell_type": "code",
   "execution_count": 2,
   "id": "393ee402-43e5-4119-aa95-6700c64c3e94",
   "metadata": {},
   "outputs": [],
   "source": [
    "from imports import *"
   ]
  },
  {
   "cell_type": "markdown",
   "id": "bc4d1ee7-8acc-468e-8d1e-1f709562ea1c",
   "metadata": {},
   "source": [
    "### I. Acquire the Data"
   ]
  },
  {
   "cell_type": "markdown",
   "id": "bd2b69dc-a919-426f-be89-8ab99a9c2935",
   "metadata": {},
   "source": [
    "The data for this report was acquired by accessing 'zillow' from the Codeup SQL database. The following query was used to acquire the data:"
   ]
  },
  {
   "cell_type": "code",
   "execution_count": 3,
   "id": "857d7e0d-3ce9-456a-8e6e-c750a1f46992",
   "metadata": {},
   "outputs": [],
   "source": [
    "'''\n",
    "The query below is used to join 9 tables from the zillow dataset in the Codeup SQL Cloud Database.  \n",
    "The tables joined are: properties_2017, predictions_2017, airconditioningtype, architecturalstyletype, \n",
    "buildingclasstype, heatingorsystemtype, propertylandusetype, storytype, typeconstructiontype. \n",
    "The data is filtered to only include the observationswith non-null latitude and longitude and with a \n",
    "transaction date occurring in 2017. \n",
    "'''\n",
    "\n",
    "sql = \"\"\"\n",
    "SELECT prop.*, \n",
    "       pred.logerror, \n",
    "       pred.transactiondate, \n",
    "       air.airconditioningdesc, \n",
    "       arch.architecturalstyledesc, \n",
    "       build.buildingclassdesc, \n",
    "       heat.heatingorsystemdesc, \n",
    "       landuse.propertylandusedesc, \n",
    "       story.storydesc, \n",
    "       construct.typeconstructiondesc \n",
    "FROM   properties_2017 prop  \n",
    "       INNER JOIN (SELECT parcelid,\n",
    "       \t\t\t\t\t  logerror,\n",
    "                          Max(transactiondate) transactiondate \n",
    "                   FROM   predictions_2017 \n",
    "                   GROUP  BY parcelid, logerror) pred\n",
    "               USING (parcelid) \n",
    "       LEFT JOIN airconditioningtype air USING (airconditioningtypeid) \n",
    "       LEFT JOIN architecturalstyletype arch USING (architecturalstyletypeid) \n",
    "       LEFT JOIN buildingclasstype build USING (buildingclasstypeid) \n",
    "       LEFT JOIN heatingorsystemtype heat USING (heatingorsystemtypeid) \n",
    "       LEFT JOIN propertylandusetype landuse USING (propertylandusetypeid) \n",
    "       LEFT JOIN storytype story USING (storytypeid) \n",
    "       LEFT JOIN typeconstructiontype construct USING (typeconstructiontypeid) \n",
    "WHERE  prop.latitude IS NOT NULL \n",
    "       AND prop.longitude IS NOT NULL AND transactiondate <= '2017-12-31' \n",
    "\"\"\""
   ]
  },
  {
   "cell_type": "code",
   "execution_count": 4,
   "id": "029447c9-5b65-40d5-a91d-4e2ab4cda7a6",
   "metadata": {},
   "outputs": [
    {
     "name": "stdout",
     "output_type": "stream",
     "text": [
      "Reading from csv file...\n"
     ]
    },
    {
     "data": {
      "text/plain": [
       "(77381, 67)"
      ]
     },
     "execution_count": 4,
     "metadata": {},
     "output_type": "execute_result"
    }
   ],
   "source": [
    "# Acquire data from SQL using module found in wrangle.py\n",
    "df = wrangle.get_zillow()\n",
    "# Obtain number of rows and columns for orginal dataframe\n",
    "df.shape"
   ]
  },
  {
   "cell_type": "markdown",
   "id": "caa1dc4e-2156-40ec-8cc9-4501d469cc77",
   "metadata": {},
   "source": [
    "- Once acquired, a new Dataframe containing all necessary data was created. \n",
    "    - Original DF -> 77,381 rows and 67 columns.\n",
    "    - Prepared DF -> ______ rows and __ columns."
   ]
  },
  {
   "cell_type": "markdown",
   "id": "b15b842d-5f6a-4c2a-9a25-4fa95091a057",
   "metadata": {},
   "source": [
    "### II. Prepare the Data"
   ]
  },
  {
   "cell_type": "markdown",
   "id": "30c8e4e6-a8e2-4d8a-a0ee-0fdcb2a5534b",
   "metadata": {},
   "source": [
    "This acquired table was then analyzed and cleaned to eliminate data errors, clarify confusion, and code non-numeric data into more useful numeric types. "
   ]
  },
  {
   "cell_type": "markdown",
   "id": "4e6414c8-9313-41aa-942f-3bb9d4d0b6d6",
   "metadata": {},
   "source": [
    "#### Tasks for preparing data\n",
    "Some of the data cleaning and engineering strategies that were employed were:\n",
    "\n",
    "1. Dropping null values (126 rows in total)\n",
    "    - due to the low number of null values, the decision was made to drop them\n",
    "2. Converting datatypes (state_county_code': object, 'year_built': int)\n",
    "3. Drop 'county_id' column\n",
    "4. Clarifying the FIPS/state_county_code definition, identifying the State and Counties the codes belong to.\n",
    "5. Creating a separate column identifying the county for each property in string format for readability -> county_code_bin\n",
    "6. Creating dummy columns for county codes.\n",
    "7. Creating categorical columns to better visualize and compare data for:\n",
    "    - 7a. square feet -> home_sizes (small, medium, large, extra large)\n",
    "    - 7b. total rooms -> total_rooms (bedrooms + bathrooms)\n",
    "    - 7c. bedroom bins -> small, medium, large, extra large\n",
    "    - 7d. bathroom bins -> small, medium, large, extra large"
   ]
  },
  {
   "cell_type": "markdown",
   "id": "3de5abab-cb5a-4f30-b518-0f6a6f280e47",
   "metadata": {},
   "source": [
    "#### Results of Preparing the Data"
   ]
  },
  {
   "cell_type": "code",
   "execution_count": 5,
   "id": "9c79f0e0-584e-44a2-bf1e-35b1324eb0c5",
   "metadata": {},
   "outputs": [],
   "source": [
    "df= wrangle.remove_columns(df, cols_to_remove = ['censustractandblock','finishedsquarefeet12',\n",
    "                                     'buildingqualitytypeid', 'heatingorsystemtypeid', 'propertyzoningdesc', \n",
    "                                     'heatingorsystemdesc', 'unitcnt'])"
   ]
  },
  {
   "cell_type": "code",
   "execution_count": 6,
   "id": "cbfbcea6-93e4-4e0f-97f6-d4393b5422bc",
   "metadata": {},
   "outputs": [
    {
     "name": "stdout",
     "output_type": "stream",
     "text": [
      "(66937, 33)\n"
     ]
    }
   ],
   "source": [
    "df = wrangle.data_prep(df, prop_required_column=.5, prop_required_row=.5)"
   ]
  },
  {
   "cell_type": "code",
   "execution_count": 8,
   "id": "e9ddde7c-2b98-4a90-a658-c0e90b9541bb",
   "metadata": {},
   "outputs": [
    {
     "data": {
      "text/plain": [
       "(5, 33)"
      ]
     },
     "execution_count": 8,
     "metadata": {},
     "output_type": "execute_result"
    }
   ],
   "source": [
    "# View of the first 5 rows of the cleaned table\n",
    "df.shape"
   ]
  },
  {
   "cell_type": "code",
   "execution_count": null,
   "id": "49971839-2f8e-4ea2-9170-a2ed5be79e3d",
   "metadata": {},
   "outputs": [],
   "source": []
  }
 ],
 "metadata": {
  "kernelspec": {
   "display_name": "Python 3 (ipykernel)",
   "language": "python",
   "name": "python3"
  },
  "language_info": {
   "codemirror_mode": {
    "name": "ipython",
    "version": 3
   },
   "file_extension": ".py",
   "mimetype": "text/x-python",
   "name": "python",
   "nbconvert_exporter": "python",
   "pygments_lexer": "ipython3",
   "version": "3.9.7"
  }
 },
 "nbformat": 4,
 "nbformat_minor": 5
}

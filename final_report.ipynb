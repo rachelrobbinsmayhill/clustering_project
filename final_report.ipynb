{
 "cells": [
  {
   "cell_type": "code",
   "execution_count": 1,
   "id": "64ec3216-b32e-4dbd-a8d2-d45f378e2da9",
   "metadata": {},
   "outputs": [],
   "source": [
    "from imports import *"
   ]
  },
  {
   "cell_type": "markdown",
   "id": "792c0efd-f08f-49a1-aa53-914313d627b1",
   "metadata": {},
   "source": [
    "---"
   ]
  },
  {
   "cell_type": "markdown",
   "id": "43d6302d-de31-4c4a-b34d-5e0be1106937",
   "metadata": {},
   "source": [
    "Project & Final Report Created By: Rachel Robbins-Mayhill 2022-04-08"
   ]
  },
  {
   "cell_type": "markdown",
   "id": "5beaa6c3-6753-43e8-945d-2ed61bd0e1a6",
   "metadata": {},
   "source": [
    "---"
   ]
  },
  {
   "cell_type": "code",
   "execution_count": 2,
   "id": "039cd20c-f19d-4293-b473-195451fb2c13",
   "metadata": {},
   "outputs": [
    {
     "name": "stdout",
     "output_type": "stream",
     "text": [
      "zsh:1: unknown file attribute: z\n"
     ]
    }
   ],
   "source": [
    "![Logo](zillow-com-logo.png \"Zillow\")"
   ]
  },
  {
   "cell_type": "code",
   "execution_count": 4,
   "id": "eb833024-33ad-4070-8957-d698257078e0",
   "metadata": {},
   "outputs": [
    {
     "name": "stdout",
     "output_type": "stream",
     "text": [
      "zsh:1: unknown file attribute: z\n"
     ]
    }
   ],
   "source": [
    "![Logo](\"zillow-com-logo.png\")"
   ]
  },
  {
   "cell_type": "code",
   "execution_count": null,
   "id": "0b7e8c52-f053-4615-8327-fc50d052f5d6",
   "metadata": {},
   "outputs": [],
   "source": []
  },
  {
   "cell_type": "code",
   "execution_count": null,
   "id": "35985e77-dfbc-402d-b8e6-fadb6eff4d2c",
   "metadata": {},
   "outputs": [],
   "source": []
  },
  {
   "cell_type": "code",
   "execution_count": null,
   "id": "b99a3f96-f983-4385-9be3-25091a628dbb",
   "metadata": {},
   "outputs": [],
   "source": []
  }
 ],
 "metadata": {
  "kernelspec": {
   "display_name": "Python 3 (ipykernel)",
   "language": "python",
   "name": "python3"
  },
  "language_info": {
   "codemirror_mode": {
    "name": "ipython",
    "version": 3
   },
   "file_extension": ".py",
   "mimetype": "text/x-python",
   "name": "python",
   "nbconvert_exporter": "python",
   "pygments_lexer": "ipython3",
   "version": "3.9.7"
  }
 },
 "nbformat": 4,
 "nbformat_minor": 5
}
